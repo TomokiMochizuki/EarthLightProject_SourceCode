{
 "cells": [
  {
   "cell_type": "code",
   "execution_count": 5,
   "metadata": {},
   "outputs": [
    {
     "name": "stdout",
     "output_type": "stream",
     "text": [
      "<class 'str'>\n",
      "<class 'list'>\n",
      "<class 'list'>\n",
      "<class 'map'>\n",
      "<class 'str'>\n",
      "saved.\n"
     ]
    }
   ],
   "source": [
    "import numpy as np\n",
    "from googleearthplot import *\n",
    "f = open('SAMPLE3.TXT', encoding=\"utf-8_sig\")\n",
    "data1 = f.read()  # ファイル終端まで全て読んだデータを返す\n",
    "f.close()\n",
    "print(type(data1)) # 文字列データ\n",
    "lines1 = data1.split('\\n') # 改行で区切る(改行文字そのものは戻り値のデータには含まれない)\n",
    "print(type(lines1))\n",
    "\n",
    "length = len(lines1)\n",
    "new_line = []\n",
    "paths = []\n",
    "data = \"\"\n",
    "title = \"\"\n",
    "for i in range (0,length):\n",
    "    if i == 0:\n",
    "        title = lines1[i] + \",\"\n",
    "    elif i == 2:\n",
    "        title += lines1[i]\n",
    "        title += \",\"\n",
    "    elif i == 4:\n",
    "        title += lines1[i]\n",
    "        title += \"\\n\"\n",
    "        new_line = [title]\n",
    "    elif i%6 == 1:\n",
    "        data = lines1[i] + \",\"\n",
    "    elif i%6 == 3:\n",
    "        data += lines1[i]\n",
    "        data += \",\"\n",
    "    elif i%6 == 5:\n",
    "        data += lines1[i]\n",
    "        data += \"\\n\"\n",
    "        new_line.append(data)\n",
    "print(type(new_line))\n",
    "lines = map(lambda v: v.replace('/', ','), new_line)\n",
    "print(type(lines))\n",
    "result= \"\".join(lines).strip()\n",
    "print(type(result))\n",
    "\n",
    "#結果をファイルへ出力\n",
    "with open(\"data/sample3.csv\", \"wt\") as fw:\n",
    "    fw.write(result)\n",
    "    print(\"saved.\")"
   ]
  },
  {
   "cell_type": "code",
   "execution_count": 6,
   "metadata": {},
   "outputs": [
    {
     "name": "stdout",
     "output_type": "stream",
     "text": [
      "[PlotLineChart]name:trajectory1,color:aqua,width:5\n"
     ]
    }
   ],
   "source": [
    "import numpy as np\n",
    "from googleearthplot import *\n",
    "f = open('data/sample3.csv')\n",
    "data = f.read()  # ファイル終端まで全て読んだデータを返す\n",
    "f.close()\n",
    "data = data.split(\"\\n\")\n",
    "sample_data = []\n",
    "for i in range (1,len(data)-1):\n",
    "    a = data[i].split(\",\")\n",
    "    if a[4][0] == \"0\" or a[4][0] == \"-\":\n",
    "        continue\n",
    "    for j in range(1,len(a)):\n",
    "        if a[j][0] == \"-\" or a[j][0] == \"0\":\n",
    "            a[j] = 0.0\n",
    "        else:\n",
    "            a[j] = float(a[j])\n",
    "    sample_data.append(a[1:])\n",
    "sample_data = np.array(sample_data)\n",
    "gep1=googleearthplot()\n",
    "lat=sample_data[0:,3]\n",
    "lon=sample_data[0:,4]\n",
    "height=sample_data[0:,5]\n",
    "gep1.PlotLineChart(lat, lon, heightList=height, name=\"trajectory1\",color=\"aqua\")\n",
    "gep1.GenerateKMLFile(filepath=\"data/sample3.kml\")"
   ]
  },
  {
   "cell_type": "code",
   "execution_count": null,
   "metadata": {},
   "outputs": [],
   "source": []
  }
 ],
 "metadata": {
  "kernelspec": {
   "display_name": "Python 3",
   "language": "python",
   "name": "python3"
  },
  "language_info": {
   "codemirror_mode": {
    "name": "ipython",
    "version": 3
   },
   "file_extension": ".py",
   "mimetype": "text/x-python",
   "name": "python",
   "nbconvert_exporter": "python",
   "pygments_lexer": "ipython3",
   "version": "3.7.6"
  }
 },
 "nbformat": 4,
 "nbformat_minor": 4
}
